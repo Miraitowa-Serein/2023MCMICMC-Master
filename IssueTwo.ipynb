{
 "cells": [
  {
   "cell_type": "code",
   "execution_count": 1,
   "metadata": {
    "collapsed": true,
    "ExecuteTime": {
     "start_time": "2023-04-28T14:44:51.040089Z",
     "end_time": "2023-04-28T14:44:51.071216Z"
    }
   },
   "outputs": [],
   "source": [
    "import pandas as pd"
   ]
  },
  {
   "cell_type": "code",
   "execution_count": 2,
   "outputs": [
    {
     "data": {
      "text/plain": "          Date  Contest number   Word  Number of reported results  \\\n0   2022-01-07             202  slump                       80630   \n1   2022-01-08             203  crank                      101503   \n2   2022-01-09             204  gorge                       91477   \n3   2022-01-10             205  query                      107134   \n4   2022-01-11             206  drink                      153880   \n..         ...             ...    ...                         ...   \n467 2023-04-21             671  kayak                       17171   \n468 2023-04-22             672  broke                       18527   \n469 2023-04-23             673  unzip                       16915   \n470 2023-04-24             674  ditto                       18104   \n471 2023-04-25             675  joker                       18034   \n\n     Number in hard mode  1 try  2 tries  3 tries  4 tries  5 tries  ...  w5  \\\n0                   1362      1        3       23       39       24  ...  16   \n1                   1763      1        5       23       31       24  ...  11   \n2                   1913      1        3       13       27       30  ...   5   \n3                   2242      1        4       16       30       30  ...  25   \n4                   3017      1        9       35       34       16  ...  11   \n..                   ...    ...      ...      ...      ...      ...  ...  ..   \n467                 1768      0        2       13       37       33  ...  11   \n468                 1840      1        9       24       29       23  ...   5   \n469                 1720      0        2       15       34       31  ...  16   \n470                 1815      0        4       24       41       24  ...  15   \n471                 1970      1        2        8       17       23  ...  18   \n\n     Vowel_fre Consonant_fre  Speech  Same_letter_fre  w1_fre  w2_fre  w3_fre  \\\n0            1             4       7                0  0.0555  0.0552  0.0366   \n1            1             4       7                0  0.0474  0.0751  0.0856   \n2            2             3       7                2  0.0230  0.0712  0.0751   \n3            2             3       7                0  0.0023  0.0366  0.1142   \n4            1             4      12                0  0.0313  0.0751  0.0794   \n..         ...           ...     ...              ...     ...     ...     ...   \n467          2             3       7                4  0.0084  0.0856  0.0200   \n468          2             3      13                0  0.0212  0.0751  0.0712   \n469          2             3       3                0  0.0366  0.0641  0.0024   \n470          2             3       7                2  0.0313  0.0794  0.0746   \n471          2             3       7                0  0.0015  0.0712  0.0084   \n\n     w4_fre  w5_fre  \n0    0.0322  0.0327  \n1    0.0641  0.0084  \n2    0.0230  0.1142  \n3    0.0751  0.0200  \n4    0.0641  0.0084  \n..      ...     ...  \n467  0.0856  0.0084  \n468  0.0084  0.1142  \n469  0.0794  0.0327  \n470  0.0746  0.0712  \n471  0.1142  0.0751  \n\n[472 rows x 27 columns]",
      "text/html": "<div>\n<style scoped>\n    .dataframe tbody tr th:only-of-type {\n        vertical-align: middle;\n    }\n\n    .dataframe tbody tr th {\n        vertical-align: top;\n    }\n\n    .dataframe thead th {\n        text-align: right;\n    }\n</style>\n<table border=\"1\" class=\"dataframe\">\n  <thead>\n    <tr style=\"text-align: right;\">\n      <th></th>\n      <th>Date</th>\n      <th>Contest number</th>\n      <th>Word</th>\n      <th>Number of reported results</th>\n      <th>Number in hard mode</th>\n      <th>1 try</th>\n      <th>2 tries</th>\n      <th>3 tries</th>\n      <th>4 tries</th>\n      <th>5 tries</th>\n      <th>...</th>\n      <th>w5</th>\n      <th>Vowel_fre</th>\n      <th>Consonant_fre</th>\n      <th>Speech</th>\n      <th>Same_letter_fre</th>\n      <th>w1_fre</th>\n      <th>w2_fre</th>\n      <th>w3_fre</th>\n      <th>w4_fre</th>\n      <th>w5_fre</th>\n    </tr>\n  </thead>\n  <tbody>\n    <tr>\n      <th>0</th>\n      <td>2022-01-07</td>\n      <td>202</td>\n      <td>slump</td>\n      <td>80630</td>\n      <td>1362</td>\n      <td>1</td>\n      <td>3</td>\n      <td>23</td>\n      <td>39</td>\n      <td>24</td>\n      <td>...</td>\n      <td>16</td>\n      <td>1</td>\n      <td>4</td>\n      <td>7</td>\n      <td>0</td>\n      <td>0.0555</td>\n      <td>0.0552</td>\n      <td>0.0366</td>\n      <td>0.0322</td>\n      <td>0.0327</td>\n    </tr>\n    <tr>\n      <th>1</th>\n      <td>2022-01-08</td>\n      <td>203</td>\n      <td>crank</td>\n      <td>101503</td>\n      <td>1763</td>\n      <td>1</td>\n      <td>5</td>\n      <td>23</td>\n      <td>31</td>\n      <td>24</td>\n      <td>...</td>\n      <td>11</td>\n      <td>1</td>\n      <td>4</td>\n      <td>7</td>\n      <td>0</td>\n      <td>0.0474</td>\n      <td>0.0751</td>\n      <td>0.0856</td>\n      <td>0.0641</td>\n      <td>0.0084</td>\n    </tr>\n    <tr>\n      <th>2</th>\n      <td>2022-01-09</td>\n      <td>204</td>\n      <td>gorge</td>\n      <td>91477</td>\n      <td>1913</td>\n      <td>1</td>\n      <td>3</td>\n      <td>13</td>\n      <td>27</td>\n      <td>30</td>\n      <td>...</td>\n      <td>5</td>\n      <td>2</td>\n      <td>3</td>\n      <td>7</td>\n      <td>2</td>\n      <td>0.0230</td>\n      <td>0.0712</td>\n      <td>0.0751</td>\n      <td>0.0230</td>\n      <td>0.1142</td>\n    </tr>\n    <tr>\n      <th>3</th>\n      <td>2022-01-10</td>\n      <td>205</td>\n      <td>query</td>\n      <td>107134</td>\n      <td>2242</td>\n      <td>1</td>\n      <td>4</td>\n      <td>16</td>\n      <td>30</td>\n      <td>30</td>\n      <td>...</td>\n      <td>25</td>\n      <td>2</td>\n      <td>3</td>\n      <td>7</td>\n      <td>0</td>\n      <td>0.0023</td>\n      <td>0.0366</td>\n      <td>0.1142</td>\n      <td>0.0751</td>\n      <td>0.0200</td>\n    </tr>\n    <tr>\n      <th>4</th>\n      <td>2022-01-11</td>\n      <td>206</td>\n      <td>drink</td>\n      <td>153880</td>\n      <td>3017</td>\n      <td>1</td>\n      <td>9</td>\n      <td>35</td>\n      <td>34</td>\n      <td>16</td>\n      <td>...</td>\n      <td>11</td>\n      <td>1</td>\n      <td>4</td>\n      <td>12</td>\n      <td>0</td>\n      <td>0.0313</td>\n      <td>0.0751</td>\n      <td>0.0794</td>\n      <td>0.0641</td>\n      <td>0.0084</td>\n    </tr>\n    <tr>\n      <th>...</th>\n      <td>...</td>\n      <td>...</td>\n      <td>...</td>\n      <td>...</td>\n      <td>...</td>\n      <td>...</td>\n      <td>...</td>\n      <td>...</td>\n      <td>...</td>\n      <td>...</td>\n      <td>...</td>\n      <td>...</td>\n      <td>...</td>\n      <td>...</td>\n      <td>...</td>\n      <td>...</td>\n      <td>...</td>\n      <td>...</td>\n      <td>...</td>\n      <td>...</td>\n      <td>...</td>\n    </tr>\n    <tr>\n      <th>467</th>\n      <td>2023-04-21</td>\n      <td>671</td>\n      <td>kayak</td>\n      <td>17171</td>\n      <td>1768</td>\n      <td>0</td>\n      <td>2</td>\n      <td>13</td>\n      <td>37</td>\n      <td>33</td>\n      <td>...</td>\n      <td>11</td>\n      <td>2</td>\n      <td>3</td>\n      <td>7</td>\n      <td>4</td>\n      <td>0.0084</td>\n      <td>0.0856</td>\n      <td>0.0200</td>\n      <td>0.0856</td>\n      <td>0.0084</td>\n    </tr>\n    <tr>\n      <th>468</th>\n      <td>2023-04-22</td>\n      <td>672</td>\n      <td>broke</td>\n      <td>18527</td>\n      <td>1840</td>\n      <td>1</td>\n      <td>9</td>\n      <td>24</td>\n      <td>29</td>\n      <td>23</td>\n      <td>...</td>\n      <td>5</td>\n      <td>2</td>\n      <td>3</td>\n      <td>13</td>\n      <td>0</td>\n      <td>0.0212</td>\n      <td>0.0751</td>\n      <td>0.0712</td>\n      <td>0.0084</td>\n      <td>0.1142</td>\n    </tr>\n    <tr>\n      <th>469</th>\n      <td>2023-04-23</td>\n      <td>673</td>\n      <td>unzip</td>\n      <td>16915</td>\n      <td>1720</td>\n      <td>0</td>\n      <td>2</td>\n      <td>15</td>\n      <td>34</td>\n      <td>31</td>\n      <td>...</td>\n      <td>16</td>\n      <td>2</td>\n      <td>3</td>\n      <td>3</td>\n      <td>0</td>\n      <td>0.0366</td>\n      <td>0.0641</td>\n      <td>0.0024</td>\n      <td>0.0794</td>\n      <td>0.0327</td>\n    </tr>\n    <tr>\n      <th>470</th>\n      <td>2023-04-24</td>\n      <td>674</td>\n      <td>ditto</td>\n      <td>18104</td>\n      <td>1815</td>\n      <td>0</td>\n      <td>4</td>\n      <td>24</td>\n      <td>41</td>\n      <td>24</td>\n      <td>...</td>\n      <td>15</td>\n      <td>2</td>\n      <td>3</td>\n      <td>7</td>\n      <td>2</td>\n      <td>0.0313</td>\n      <td>0.0794</td>\n      <td>0.0746</td>\n      <td>0.0746</td>\n      <td>0.0712</td>\n    </tr>\n    <tr>\n      <th>471</th>\n      <td>2023-04-25</td>\n      <td>675</td>\n      <td>joker</td>\n      <td>18034</td>\n      <td>1970</td>\n      <td>1</td>\n      <td>2</td>\n      <td>8</td>\n      <td>17</td>\n      <td>23</td>\n      <td>...</td>\n      <td>18</td>\n      <td>2</td>\n      <td>3</td>\n      <td>7</td>\n      <td>0</td>\n      <td>0.0015</td>\n      <td>0.0712</td>\n      <td>0.0084</td>\n      <td>0.1142</td>\n      <td>0.0751</td>\n    </tr>\n  </tbody>\n</table>\n<p>472 rows × 27 columns</p>\n</div>"
     },
     "execution_count": 2,
     "metadata": {},
     "output_type": "execute_result"
    }
   ],
   "source": [
    "data=pd.read_excel('Data_Wordle_All_Features.xlsx',sheet_name='New')\n",
    "data"
   ],
   "metadata": {
    "collapsed": false,
    "ExecuteTime": {
     "start_time": "2023-04-28T14:44:51.057254Z",
     "end_time": "2023-04-28T14:44:51.503063Z"
    }
   }
  },
  {
   "cell_type": "code",
   "execution_count": 3,
   "outputs": [
    {
     "data": {
      "text/plain": "     Contest number  w1  w2  w3  w4  w5  w1_fre  w2_fre  w3_fre  w4_fre  ...  \\\n0               202  19  12  21  13  16  0.0555  0.0552  0.0366  0.0322  ...   \n1               203   3  18   1  14  11  0.0474  0.0751  0.0856  0.0641  ...   \n2               204   7  15  18   7   5  0.0230  0.0712  0.0751  0.0230  ...   \n3               205  17  21   5  18  25  0.0023  0.0366  0.1142  0.0751  ...   \n4               206   4  18   9  14  11  0.0313  0.0751  0.0794  0.0641  ...   \n..              ...  ..  ..  ..  ..  ..     ...     ...     ...     ...  ...   \n467             671  11   1  25   1  11  0.0084  0.0856  0.0200  0.0856  ...   \n468             672   2  18  15  11   5  0.0212  0.0751  0.0712  0.0084  ...   \n469             673  21  14  26   9  16  0.0366  0.0641  0.0024  0.0794  ...   \n470             674   4   9  20  20  15  0.0313  0.0794  0.0746  0.0746  ...   \n471             675  10  15  11   5  18  0.0015  0.0712  0.0084  0.1142  ...   \n\n     Consonant_fre  Speech  Same_letter_fre  1 try  2 tries  3 tries  4 tries  \\\n0                4       7                0      1        3       23       39   \n1                4       7                0      1        5       23       31   \n2                3       7                2      1        3       13       27   \n3                3       7                0      1        4       16       30   \n4                4      12                0      1        9       35       34   \n..             ...     ...              ...    ...      ...      ...      ...   \n467              3       7                4      0        2       13       37   \n468              3      13                0      1        9       24       29   \n469              3       3                0      0        2       15       34   \n470              3       7                2      0        4       24       41   \n471              3       7                0      1        2        8       17   \n\n     5 tries  6 tries  7 or more tries (X)  \n0         24        9                    1  \n1         24       14                    2  \n2         30       22                    4  \n3         30       17                    2  \n4         16        5                    1  \n..       ...      ...                  ...  \n467       33       13                    3  \n468       23       13                    2  \n469       31       16                    2  \n470       24        7                    1  \n471       23       29                   21  \n\n[472 rows x 22 columns]",
      "text/html": "<div>\n<style scoped>\n    .dataframe tbody tr th:only-of-type {\n        vertical-align: middle;\n    }\n\n    .dataframe tbody tr th {\n        vertical-align: top;\n    }\n\n    .dataframe thead th {\n        text-align: right;\n    }\n</style>\n<table border=\"1\" class=\"dataframe\">\n  <thead>\n    <tr style=\"text-align: right;\">\n      <th></th>\n      <th>Contest number</th>\n      <th>w1</th>\n      <th>w2</th>\n      <th>w3</th>\n      <th>w4</th>\n      <th>w5</th>\n      <th>w1_fre</th>\n      <th>w2_fre</th>\n      <th>w3_fre</th>\n      <th>w4_fre</th>\n      <th>...</th>\n      <th>Consonant_fre</th>\n      <th>Speech</th>\n      <th>Same_letter_fre</th>\n      <th>1 try</th>\n      <th>2 tries</th>\n      <th>3 tries</th>\n      <th>4 tries</th>\n      <th>5 tries</th>\n      <th>6 tries</th>\n      <th>7 or more tries (X)</th>\n    </tr>\n  </thead>\n  <tbody>\n    <tr>\n      <th>0</th>\n      <td>202</td>\n      <td>19</td>\n      <td>12</td>\n      <td>21</td>\n      <td>13</td>\n      <td>16</td>\n      <td>0.0555</td>\n      <td>0.0552</td>\n      <td>0.0366</td>\n      <td>0.0322</td>\n      <td>...</td>\n      <td>4</td>\n      <td>7</td>\n      <td>0</td>\n      <td>1</td>\n      <td>3</td>\n      <td>23</td>\n      <td>39</td>\n      <td>24</td>\n      <td>9</td>\n      <td>1</td>\n    </tr>\n    <tr>\n      <th>1</th>\n      <td>203</td>\n      <td>3</td>\n      <td>18</td>\n      <td>1</td>\n      <td>14</td>\n      <td>11</td>\n      <td>0.0474</td>\n      <td>0.0751</td>\n      <td>0.0856</td>\n      <td>0.0641</td>\n      <td>...</td>\n      <td>4</td>\n      <td>7</td>\n      <td>0</td>\n      <td>1</td>\n      <td>5</td>\n      <td>23</td>\n      <td>31</td>\n      <td>24</td>\n      <td>14</td>\n      <td>2</td>\n    </tr>\n    <tr>\n      <th>2</th>\n      <td>204</td>\n      <td>7</td>\n      <td>15</td>\n      <td>18</td>\n      <td>7</td>\n      <td>5</td>\n      <td>0.0230</td>\n      <td>0.0712</td>\n      <td>0.0751</td>\n      <td>0.0230</td>\n      <td>...</td>\n      <td>3</td>\n      <td>7</td>\n      <td>2</td>\n      <td>1</td>\n      <td>3</td>\n      <td>13</td>\n      <td>27</td>\n      <td>30</td>\n      <td>22</td>\n      <td>4</td>\n    </tr>\n    <tr>\n      <th>3</th>\n      <td>205</td>\n      <td>17</td>\n      <td>21</td>\n      <td>5</td>\n      <td>18</td>\n      <td>25</td>\n      <td>0.0023</td>\n      <td>0.0366</td>\n      <td>0.1142</td>\n      <td>0.0751</td>\n      <td>...</td>\n      <td>3</td>\n      <td>7</td>\n      <td>0</td>\n      <td>1</td>\n      <td>4</td>\n      <td>16</td>\n      <td>30</td>\n      <td>30</td>\n      <td>17</td>\n      <td>2</td>\n    </tr>\n    <tr>\n      <th>4</th>\n      <td>206</td>\n      <td>4</td>\n      <td>18</td>\n      <td>9</td>\n      <td>14</td>\n      <td>11</td>\n      <td>0.0313</td>\n      <td>0.0751</td>\n      <td>0.0794</td>\n      <td>0.0641</td>\n      <td>...</td>\n      <td>4</td>\n      <td>12</td>\n      <td>0</td>\n      <td>1</td>\n      <td>9</td>\n      <td>35</td>\n      <td>34</td>\n      <td>16</td>\n      <td>5</td>\n      <td>1</td>\n    </tr>\n    <tr>\n      <th>...</th>\n      <td>...</td>\n      <td>...</td>\n      <td>...</td>\n      <td>...</td>\n      <td>...</td>\n      <td>...</td>\n      <td>...</td>\n      <td>...</td>\n      <td>...</td>\n      <td>...</td>\n      <td>...</td>\n      <td>...</td>\n      <td>...</td>\n      <td>...</td>\n      <td>...</td>\n      <td>...</td>\n      <td>...</td>\n      <td>...</td>\n      <td>...</td>\n      <td>...</td>\n      <td>...</td>\n    </tr>\n    <tr>\n      <th>467</th>\n      <td>671</td>\n      <td>11</td>\n      <td>1</td>\n      <td>25</td>\n      <td>1</td>\n      <td>11</td>\n      <td>0.0084</td>\n      <td>0.0856</td>\n      <td>0.0200</td>\n      <td>0.0856</td>\n      <td>...</td>\n      <td>3</td>\n      <td>7</td>\n      <td>4</td>\n      <td>0</td>\n      <td>2</td>\n      <td>13</td>\n      <td>37</td>\n      <td>33</td>\n      <td>13</td>\n      <td>3</td>\n    </tr>\n    <tr>\n      <th>468</th>\n      <td>672</td>\n      <td>2</td>\n      <td>18</td>\n      <td>15</td>\n      <td>11</td>\n      <td>5</td>\n      <td>0.0212</td>\n      <td>0.0751</td>\n      <td>0.0712</td>\n      <td>0.0084</td>\n      <td>...</td>\n      <td>3</td>\n      <td>13</td>\n      <td>0</td>\n      <td>1</td>\n      <td>9</td>\n      <td>24</td>\n      <td>29</td>\n      <td>23</td>\n      <td>13</td>\n      <td>2</td>\n    </tr>\n    <tr>\n      <th>469</th>\n      <td>673</td>\n      <td>21</td>\n      <td>14</td>\n      <td>26</td>\n      <td>9</td>\n      <td>16</td>\n      <td>0.0366</td>\n      <td>0.0641</td>\n      <td>0.0024</td>\n      <td>0.0794</td>\n      <td>...</td>\n      <td>3</td>\n      <td>3</td>\n      <td>0</td>\n      <td>0</td>\n      <td>2</td>\n      <td>15</td>\n      <td>34</td>\n      <td>31</td>\n      <td>16</td>\n      <td>2</td>\n    </tr>\n    <tr>\n      <th>470</th>\n      <td>674</td>\n      <td>4</td>\n      <td>9</td>\n      <td>20</td>\n      <td>20</td>\n      <td>15</td>\n      <td>0.0313</td>\n      <td>0.0794</td>\n      <td>0.0746</td>\n      <td>0.0746</td>\n      <td>...</td>\n      <td>3</td>\n      <td>7</td>\n      <td>2</td>\n      <td>0</td>\n      <td>4</td>\n      <td>24</td>\n      <td>41</td>\n      <td>24</td>\n      <td>7</td>\n      <td>1</td>\n    </tr>\n    <tr>\n      <th>471</th>\n      <td>675</td>\n      <td>10</td>\n      <td>15</td>\n      <td>11</td>\n      <td>5</td>\n      <td>18</td>\n      <td>0.0015</td>\n      <td>0.0712</td>\n      <td>0.0084</td>\n      <td>0.1142</td>\n      <td>...</td>\n      <td>3</td>\n      <td>7</td>\n      <td>0</td>\n      <td>1</td>\n      <td>2</td>\n      <td>8</td>\n      <td>17</td>\n      <td>23</td>\n      <td>29</td>\n      <td>21</td>\n    </tr>\n  </tbody>\n</table>\n<p>472 rows × 22 columns</p>\n</div>"
     },
     "execution_count": 3,
     "metadata": {},
     "output_type": "execute_result"
    }
   ],
   "source": [
    "features = ['Contest number','w1','w2','w3','w4','w5','w1_fre','w2_fre','w3_fre','w4_fre','w5_fre','Vowel_fre','Consonant_fre','Speech','Same_letter_fre']\n",
    "label = ['1 try','2 tries','3 tries','4 tries','5 tries','6 tries','7 or more tries (X)']\n",
    "\n",
    "Train_all = data[features+label].copy().dropna()\n",
    "X = Train_all[features]\n",
    "\n",
    "Y_1= Train_all[label[0]]\n",
    "Y_2= Train_all[label[1]]\n",
    "Y_3= Train_all[label[2]]\n",
    "Y_4= Train_all[label[3]]\n",
    "Y_5= Train_all[label[4]]\n",
    "Y_6= Train_all[label[5]]\n",
    "Y_7= Train_all[label[6]]\n",
    "Train_all"
   ],
   "metadata": {
    "collapsed": false,
    "ExecuteTime": {
     "start_time": "2023-04-28T14:44:51.508049Z",
     "end_time": "2023-04-28T14:44:51.578859Z"
    }
   }
  },
  {
   "cell_type": "code",
   "execution_count": 4,
   "outputs": [],
   "source": [
    "from sklearn.model_selection import train_test_split\n",
    "from sklearn.linear_model import LinearRegression\n",
    "import numpy as np\n",
    "import matplotlib.pyplot as plt\n",
    "from sklearn.metrics import mean_squared_error"
   ],
   "metadata": {
    "collapsed": false,
    "ExecuteTime": {
     "start_time": "2023-04-28T14:44:51.536972Z",
     "end_time": "2023-04-28T14:44:51.708512Z"
    }
   }
  },
  {
   "cell_type": "code",
   "execution_count": 5,
   "outputs": [],
   "source": [
    "def pre_model(X,y,i):\n",
    "    list=['pre 1','pre 2','pre 3','pre 4','pre 5','pre 6','pre 7']\n",
    "    X_train, X_test, y_train, y_test = train_test_split(X,y, test_size=0.1, random_state=0)\n",
    "\n",
    "    reg = LinearRegression().fit(X_train, y_train)\n",
    "    pred = reg.predict(X_test)\n",
    "\n",
    "    test_df=pd.DataFrame(y_test,columns=label)\n",
    "    test_df[list[i-1]] = pred\n",
    "    # 计算误差\n",
    "\n",
    "    rmse = np.sqrt(mean_squared_error(test_df[label[i-1]],test_df[list[i-1]]))\n",
    "    print(f'第{i}个模型，RMSE误差是：{rmse}')\n",
    "    # 预测结果可视化\n",
    "    # test_df[[label[0],'pred_1']].plot()\n",
    "    # plt.legend()\n",
    "    # plt.savefig('img/3.png',dpi=300)\n",
    "    # plt.show()"
   ],
   "metadata": {
    "collapsed": false,
    "ExecuteTime": {
     "start_time": "2023-04-28T14:44:51.648672Z",
     "end_time": "2023-04-28T14:44:51.734443Z"
    }
   }
  },
  {
   "cell_type": "code",
   "execution_count": 6,
   "outputs": [
    {
     "name": "stdout",
     "output_type": "stream",
     "text": [
      "第1个模型，RMSE误差是：0.5323542074017134\n",
      "第2个模型，RMSE误差是：3.5005236289685\n",
      "第3个模型，RMSE误差是：6.497352914949824\n",
      "第4个模型，RMSE误差是：5.3581017678191705\n",
      "第5个模型，RMSE误差是：5.088078112913304\n",
      "第6个模型，RMSE误差是：5.587322705354231\n",
      "第7个模型，RMSE误差是：4.7991596561979835\n"
     ]
    }
   ],
   "source": [
    "pre_model(X,Y_1,1)\n",
    "pre_model(X,Y_2,2)\n",
    "pre_model(X,Y_3,3)\n",
    "pre_model(X,Y_4,4)\n",
    "pre_model(X,Y_5,5)\n",
    "pre_model(X,Y_6,6)\n",
    "pre_model(X,Y_7,7)"
   ],
   "metadata": {
    "collapsed": false,
    "ExecuteTime": {
     "start_time": "2023-04-28T14:44:51.664630Z",
     "end_time": "2023-04-28T14:44:51.753392Z"
    }
   }
  },
  {
   "cell_type": "code",
   "execution_count": 7,
   "outputs": [
    {
     "data": {
      "text/plain": "        Date  Contest number   Word w1 w2 w3 w4 w5  Vowel_fre  Consonant_fre  \\\n0 2023-05-15             295  eerie  e  e  r  i  e        NaN            NaN   \n\n   Speech  Same_letter_fre  w1_fre  w2_fre  w3_fre  w4_fre  w5_fre  \n0     NaN              NaN     NaN     NaN     NaN     NaN     NaN  ",
      "text/html": "<div>\n<style scoped>\n    .dataframe tbody tr th:only-of-type {\n        vertical-align: middle;\n    }\n\n    .dataframe tbody tr th {\n        vertical-align: top;\n    }\n\n    .dataframe thead th {\n        text-align: right;\n    }\n</style>\n<table border=\"1\" class=\"dataframe\">\n  <thead>\n    <tr style=\"text-align: right;\">\n      <th></th>\n      <th>Date</th>\n      <th>Contest number</th>\n      <th>Word</th>\n      <th>w1</th>\n      <th>w2</th>\n      <th>w3</th>\n      <th>w4</th>\n      <th>w5</th>\n      <th>Vowel_fre</th>\n      <th>Consonant_fre</th>\n      <th>Speech</th>\n      <th>Same_letter_fre</th>\n      <th>w1_fre</th>\n      <th>w2_fre</th>\n      <th>w3_fre</th>\n      <th>w4_fre</th>\n      <th>w5_fre</th>\n    </tr>\n  </thead>\n  <tbody>\n    <tr>\n      <th>0</th>\n      <td>2023-05-15</td>\n      <td>295</td>\n      <td>eerie</td>\n      <td>e</td>\n      <td>e</td>\n      <td>r</td>\n      <td>i</td>\n      <td>e</td>\n      <td>NaN</td>\n      <td>NaN</td>\n      <td>NaN</td>\n      <td>NaN</td>\n      <td>NaN</td>\n      <td>NaN</td>\n      <td>NaN</td>\n      <td>NaN</td>\n      <td>NaN</td>\n    </tr>\n  </tbody>\n</table>\n</div>"
     },
     "execution_count": 7,
     "metadata": {},
     "output_type": "execute_result"
    }
   ],
   "source": [
    "eerie=pd.read_excel('eerie.xlsx',sheet_name='Sheet1')\n",
    "eerie"
   ],
   "metadata": {
    "collapsed": false,
    "ExecuteTime": {
     "start_time": "2023-04-28T14:44:51.711504Z",
     "end_time": "2023-04-28T14:44:51.816225Z"
    }
   }
  },
  {
   "cell_type": "code",
   "execution_count": 8,
   "outputs": [
    {
     "data": {
      "text/plain": "        Date  Contest number   Word w1 w2 w3 w4 w5  Vowel_fre  Consonant_fre  \\\n0 2023-05-15             295  eerie  e  e  r  i  e          1              4   \n\n   Speech  Same_letter_fre  w1_fre  w2_fre  w3_fre  w4_fre  w5_fre  \n0     NaN              NaN     NaN     NaN     NaN     NaN     NaN  ",
      "text/html": "<div>\n<style scoped>\n    .dataframe tbody tr th:only-of-type {\n        vertical-align: middle;\n    }\n\n    .dataframe tbody tr th {\n        vertical-align: top;\n    }\n\n    .dataframe thead th {\n        text-align: right;\n    }\n</style>\n<table border=\"1\" class=\"dataframe\">\n  <thead>\n    <tr style=\"text-align: right;\">\n      <th></th>\n      <th>Date</th>\n      <th>Contest number</th>\n      <th>Word</th>\n      <th>w1</th>\n      <th>w2</th>\n      <th>w3</th>\n      <th>w4</th>\n      <th>w5</th>\n      <th>Vowel_fre</th>\n      <th>Consonant_fre</th>\n      <th>Speech</th>\n      <th>Same_letter_fre</th>\n      <th>w1_fre</th>\n      <th>w2_fre</th>\n      <th>w3_fre</th>\n      <th>w4_fre</th>\n      <th>w5_fre</th>\n    </tr>\n  </thead>\n  <tbody>\n    <tr>\n      <th>0</th>\n      <td>2023-05-15</td>\n      <td>295</td>\n      <td>eerie</td>\n      <td>e</td>\n      <td>e</td>\n      <td>r</td>\n      <td>i</td>\n      <td>e</td>\n      <td>1</td>\n      <td>4</td>\n      <td>NaN</td>\n      <td>NaN</td>\n      <td>NaN</td>\n      <td>NaN</td>\n      <td>NaN</td>\n      <td>NaN</td>\n      <td>NaN</td>\n    </tr>\n  </tbody>\n</table>\n</div>"
     },
     "execution_count": 8,
     "metadata": {},
     "output_type": "execute_result"
    }
   ],
   "source": [
    "Vowel = ['a','e','i','o','u']\n",
    "letter = [str(chr(i)) for i in range(ord('a'),ord('z')+1)]\n",
    "Consonant = list(set(letter).difference(set(Vowel)))\n",
    "\n",
    "\n",
    "def count_vowel(s):\n",
    "    c = 0\n",
    "    for i in range(len(s)):\n",
    "        if s[i] in Vowel:\n",
    "            c+=1\n",
    "    return c\n",
    "\n",
    "\n",
    "def count_consonant(s):\n",
    "    c = 0\n",
    "    for i in range(len(s)):\n",
    "        if s[i] in Consonant:\n",
    "            c+=1\n",
    "    return c\n",
    "\n",
    "\n",
    "eerie['Vowel_fre'] = data['Word'].apply(lambda x:count_vowel(x))\n",
    "eerie['Consonant_fre'] = data['Word'].apply(lambda x:count_consonant(x))\n",
    "eerie"
   ],
   "metadata": {
    "collapsed": false,
    "ExecuteTime": {
     "start_time": "2023-04-28T14:44:51.763366Z",
     "end_time": "2023-04-28T14:44:51.817222Z"
    }
   }
  },
  {
   "cell_type": "code",
   "execution_count": 9,
   "outputs": [
    {
     "data": {
      "text/plain": "        Date  Contest number   Word w1 w2 w3 w4 w5  Vowel_fre  Consonant_fre  \\\n0 2023-05-15             295  eerie  e  e  r  i  e          1              4   \n\n  Speech  Same_letter_fre  w1_fre  w2_fre  w3_fre  w4_fre  w5_fre  \n0     NN              NaN     NaN     NaN     NaN     NaN     NaN  ",
      "text/html": "<div>\n<style scoped>\n    .dataframe tbody tr th:only-of-type {\n        vertical-align: middle;\n    }\n\n    .dataframe tbody tr th {\n        vertical-align: top;\n    }\n\n    .dataframe thead th {\n        text-align: right;\n    }\n</style>\n<table border=\"1\" class=\"dataframe\">\n  <thead>\n    <tr style=\"text-align: right;\">\n      <th></th>\n      <th>Date</th>\n      <th>Contest number</th>\n      <th>Word</th>\n      <th>w1</th>\n      <th>w2</th>\n      <th>w3</th>\n      <th>w4</th>\n      <th>w5</th>\n      <th>Vowel_fre</th>\n      <th>Consonant_fre</th>\n      <th>Speech</th>\n      <th>Same_letter_fre</th>\n      <th>w1_fre</th>\n      <th>w2_fre</th>\n      <th>w3_fre</th>\n      <th>w4_fre</th>\n      <th>w5_fre</th>\n    </tr>\n  </thead>\n  <tbody>\n    <tr>\n      <th>0</th>\n      <td>2023-05-15</td>\n      <td>295</td>\n      <td>eerie</td>\n      <td>e</td>\n      <td>e</td>\n      <td>r</td>\n      <td>i</td>\n      <td>e</td>\n      <td>1</td>\n      <td>4</td>\n      <td>NN</td>\n      <td>NaN</td>\n      <td>NaN</td>\n      <td>NaN</td>\n      <td>NaN</td>\n      <td>NaN</td>\n      <td>NaN</td>\n    </tr>\n  </tbody>\n</table>\n</div>"
     },
     "execution_count": 9,
     "metadata": {},
     "output_type": "execute_result"
    }
   ],
   "source": [
    "import nltk\n",
    "word=list(eerie['Word'])\n",
    "pos_tags = nltk.pos_tag(word)\n",
    "eerie['Speech']=pd.DataFrame(pos_tags)[1]\n",
    "eerie"
   ],
   "metadata": {
    "collapsed": false,
    "ExecuteTime": {
     "start_time": "2023-04-28T14:44:51.790295Z",
     "end_time": "2023-04-28T14:44:52.252060Z"
    }
   }
  },
  {
   "cell_type": "code",
   "execution_count": 10,
   "outputs": [],
   "source": [
    "def count_same_letter(s):\n",
    "    d={}\n",
    "    for char in set(s):\n",
    "        d[char]=s.count(char)\n",
    "\n",
    "    sum = 0\n",
    "    for i in d:\n",
    "        if d[i]>1:\n",
    "            sum = sum + d[i]\n",
    "\n",
    "    return sum"
   ],
   "metadata": {
    "collapsed": false,
    "ExecuteTime": {
     "start_time": "2023-04-28T14:44:52.246076Z",
     "end_time": "2023-04-28T14:44:52.291953Z"
    }
   }
  },
  {
   "cell_type": "code",
   "execution_count": 11,
   "outputs": [
    {
     "data": {
      "text/plain": "        Date  Contest number   Word w1 w2 w3 w4 w5  Vowel_fre  Consonant_fre  \\\n0 2023-05-15             295  eerie  e  e  r  i  e          1              4   \n\n  Speech  Same_letter_fre  w1_fre  w2_fre  w3_fre  w4_fre  w5_fre  \n0     NN                3     NaN     NaN     NaN     NaN     NaN  ",
      "text/html": "<div>\n<style scoped>\n    .dataframe tbody tr th:only-of-type {\n        vertical-align: middle;\n    }\n\n    .dataframe tbody tr th {\n        vertical-align: top;\n    }\n\n    .dataframe thead th {\n        text-align: right;\n    }\n</style>\n<table border=\"1\" class=\"dataframe\">\n  <thead>\n    <tr style=\"text-align: right;\">\n      <th></th>\n      <th>Date</th>\n      <th>Contest number</th>\n      <th>Word</th>\n      <th>w1</th>\n      <th>w2</th>\n      <th>w3</th>\n      <th>w4</th>\n      <th>w5</th>\n      <th>Vowel_fre</th>\n      <th>Consonant_fre</th>\n      <th>Speech</th>\n      <th>Same_letter_fre</th>\n      <th>w1_fre</th>\n      <th>w2_fre</th>\n      <th>w3_fre</th>\n      <th>w4_fre</th>\n      <th>w5_fre</th>\n    </tr>\n  </thead>\n  <tbody>\n    <tr>\n      <th>0</th>\n      <td>2023-05-15</td>\n      <td>295</td>\n      <td>eerie</td>\n      <td>e</td>\n      <td>e</td>\n      <td>r</td>\n      <td>i</td>\n      <td>e</td>\n      <td>1</td>\n      <td>4</td>\n      <td>NN</td>\n      <td>3</td>\n      <td>NaN</td>\n      <td>NaN</td>\n      <td>NaN</td>\n      <td>NaN</td>\n      <td>NaN</td>\n    </tr>\n  </tbody>\n</table>\n</div>"
     },
     "execution_count": 11,
     "metadata": {},
     "output_type": "execute_result"
    }
   ],
   "source": [
    "eerie['Same_letter_fre'] = eerie['Word'].apply(lambda x:count_same_letter(x))\n",
    "eerie"
   ],
   "metadata": {
    "collapsed": false,
    "ExecuteTime": {
     "start_time": "2023-04-28T14:44:52.260039Z",
     "end_time": "2023-04-28T14:44:52.319879Z"
    }
   }
  },
  {
   "cell_type": "code",
   "execution_count": 12,
   "outputs": [
    {
     "data": {
      "text/plain": "        Date  Contest number   Word  w1  w2  w3  w4  w5  Vowel_fre  \\\n0 2023-05-15             295  eerie   5   5  18   9   5          1   \n\n   Consonant_fre Speech  Same_letter_fre  w1_fre  w2_fre  w3_fre  w4_fre  \\\n0              4     NN                3  0.1142  0.1142  0.0751  0.0794   \n\n   w5_fre  \n0  0.1142  ",
      "text/html": "<div>\n<style scoped>\n    .dataframe tbody tr th:only-of-type {\n        vertical-align: middle;\n    }\n\n    .dataframe tbody tr th {\n        vertical-align: top;\n    }\n\n    .dataframe thead th {\n        text-align: right;\n    }\n</style>\n<table border=\"1\" class=\"dataframe\">\n  <thead>\n    <tr style=\"text-align: right;\">\n      <th></th>\n      <th>Date</th>\n      <th>Contest number</th>\n      <th>Word</th>\n      <th>w1</th>\n      <th>w2</th>\n      <th>w3</th>\n      <th>w4</th>\n      <th>w5</th>\n      <th>Vowel_fre</th>\n      <th>Consonant_fre</th>\n      <th>Speech</th>\n      <th>Same_letter_fre</th>\n      <th>w1_fre</th>\n      <th>w2_fre</th>\n      <th>w3_fre</th>\n      <th>w4_fre</th>\n      <th>w5_fre</th>\n    </tr>\n  </thead>\n  <tbody>\n    <tr>\n      <th>0</th>\n      <td>2023-05-15</td>\n      <td>295</td>\n      <td>eerie</td>\n      <td>5</td>\n      <td>5</td>\n      <td>18</td>\n      <td>9</td>\n      <td>5</td>\n      <td>1</td>\n      <td>4</td>\n      <td>NN</td>\n      <td>3</td>\n      <td>0.1142</td>\n      <td>0.1142</td>\n      <td>0.0751</td>\n      <td>0.0794</td>\n      <td>0.1142</td>\n    </tr>\n  </tbody>\n</table>\n</div>"
     },
     "execution_count": 12,
     "metadata": {},
     "output_type": "execute_result"
    }
   ],
   "source": [
    "letter_map = dict(zip(letter,range(1,27)))\n",
    "eerie['w1'] = eerie['w1'].map(letter_map)\n",
    "eerie['w2'] = eerie['w2'].map(letter_map)\n",
    "eerie['w3'] = eerie['w3'].map(letter_map)\n",
    "eerie['w4'] = eerie['w4'].map(letter_map)\n",
    "eerie['w5'] = eerie['w5'].map(letter_map)\n",
    "Frequency=pd.read_excel(\"Letter_Frequency.xlsx\",sheet_name=\"Sheet1\")\n",
    "Frequency_map=dict(zip(Frequency['N'],Frequency['Frequency']))\n",
    "eerie['w1_fre']=eerie['w1']\n",
    "eerie['w2_fre']=eerie['w2']\n",
    "eerie['w3_fre']=eerie['w3']\n",
    "eerie['w4_fre']=eerie['w4']\n",
    "eerie['w5_fre']=eerie['w5']\n",
    "eerie.replace({'w1_fre':Frequency_map,'w2_fre':Frequency_map,'w3_fre':Frequency_map,'w4_fre':Frequency_map,'w5_fre':Frequency_map},inplace=True)\n",
    "eerie"
   ],
   "metadata": {
    "collapsed": false,
    "ExecuteTime": {
     "start_time": "2023-04-28T14:44:52.280983Z",
     "end_time": "2023-04-28T14:44:52.373445Z"
    }
   }
  },
  {
   "cell_type": "code",
   "execution_count": 13,
   "outputs": [
    {
     "data": {
      "text/plain": "        Date  Contest number   Word  w1  w2  w3  w4  w5  Vowel_fre  \\\n0 2023-05-15             295  eerie   5   5  18   9   5          1   \n\n   Consonant_fre  Speech  Same_letter_fre  w1_fre  w2_fre  w3_fre  w4_fre  \\\n0              4       7                3  0.1142  0.1142  0.0751  0.0794   \n\n   w5_fre  \n0  0.1142  ",
      "text/html": "<div>\n<style scoped>\n    .dataframe tbody tr th:only-of-type {\n        vertical-align: middle;\n    }\n\n    .dataframe tbody tr th {\n        vertical-align: top;\n    }\n\n    .dataframe thead th {\n        text-align: right;\n    }\n</style>\n<table border=\"1\" class=\"dataframe\">\n  <thead>\n    <tr style=\"text-align: right;\">\n      <th></th>\n      <th>Date</th>\n      <th>Contest number</th>\n      <th>Word</th>\n      <th>w1</th>\n      <th>w2</th>\n      <th>w3</th>\n      <th>w4</th>\n      <th>w5</th>\n      <th>Vowel_fre</th>\n      <th>Consonant_fre</th>\n      <th>Speech</th>\n      <th>Same_letter_fre</th>\n      <th>w1_fre</th>\n      <th>w2_fre</th>\n      <th>w3_fre</th>\n      <th>w4_fre</th>\n      <th>w5_fre</th>\n    </tr>\n  </thead>\n  <tbody>\n    <tr>\n      <th>0</th>\n      <td>2023-05-15</td>\n      <td>295</td>\n      <td>eerie</td>\n      <td>5</td>\n      <td>5</td>\n      <td>18</td>\n      <td>9</td>\n      <td>5</td>\n      <td>1</td>\n      <td>4</td>\n      <td>7</td>\n      <td>3</td>\n      <td>0.1142</td>\n      <td>0.1142</td>\n      <td>0.0751</td>\n      <td>0.0794</td>\n      <td>0.1142</td>\n    </tr>\n  </tbody>\n</table>\n</div>"
     },
     "execution_count": 13,
     "metadata": {},
     "output_type": "execute_result"
    }
   ],
   "source": [
    "eerie.replace({'Speech':{'NN':7}},inplace=True)\n",
    "eerie"
   ],
   "metadata": {
    "collapsed": false,
    "ExecuteTime": {
     "start_time": "2023-04-28T14:44:52.323868Z",
     "end_time": "2023-04-28T14:44:52.396383Z"
    }
   }
  },
  {
   "cell_type": "code",
   "execution_count": 14,
   "outputs": [],
   "source": [
    "from sklearn.model_selection import train_test_split\n",
    "from sklearn.linear_model import LinearRegression\n",
    "from sklearn.preprocessing import StandardScaler\n",
    "features=['Contest number','w1','w2','w3','w4','w5','w1_fre','w2_fre','w3_fre','w4_fre','w5_fre','Vowel_fre','Consonant_fre','Speech','Same_letter_fre']\n",
    "label = ['1 try','2 tries','3 tries','4 tries','5 tries','6 tries','7 or more tries (X)']\n",
    "\n",
    "Train_all = data[features+label].copy().dropna()\n",
    "X = Train_all[features]\n",
    "\n",
    "Y_1= Train_all[label[0]]\n",
    "Y_2= Train_all[label[1]]\n",
    "Y_3= Train_all[label[2]]\n",
    "Y_4= Train_all[label[3]]\n",
    "Y_5= Train_all[label[4]]\n",
    "Y_6= Train_all[label[5]]\n",
    "Y_7= Train_all[label[6]]\n",
    "\n",
    "reg1 = LinearRegression().fit(X, Y_1)\n",
    "reg2 = LinearRegression().fit(X, Y_2)\n",
    "reg3 = LinearRegression().fit(X, Y_3)\n",
    "reg4 = LinearRegression().fit(X, Y_4)\n",
    "reg5 = LinearRegression().fit(X, Y_5)\n",
    "reg6 = LinearRegression().fit(X, Y_6)\n",
    "reg7 = LinearRegression().fit(X, Y_7)\n"
   ],
   "metadata": {
    "collapsed": false,
    "ExecuteTime": {
     "start_time": "2023-04-28T14:44:52.354787Z",
     "end_time": "2023-04-28T14:44:52.459774Z"
    }
   }
  },
  {
   "cell_type": "code",
   "execution_count": 15,
   "outputs": [
    {
     "name": "stdout",
     "output_type": "stream",
     "text": [
      "[0.66139894] [9.93477999] [27.41125397] [28.03649941] [18.31044046] [10.41038163] [5.02536808]\n"
     ]
    }
   ],
   "source": [
    "X_pred=eerie[features]\n",
    "p_pred1 = reg1.predict(X_pred)\n",
    "p_pred2 = reg2.predict(X_pred)\n",
    "p_pred3 = reg3.predict(X_pred)\n",
    "p_pred4 = reg4.predict(X_pred)\n",
    "p_pred5 = reg5.predict(X_pred)\n",
    "p_pred6 = reg6.predict(X_pred)\n",
    "p_pred7 = reg7.predict(X_pred)\n",
    "\n",
    "print(p_pred1,p_pred2,p_pred3,p_pred4,p_pred5,p_pred6,p_pred7)"
   ],
   "metadata": {
    "collapsed": false,
    "ExecuteTime": {
     "start_time": "2023-04-28T14:44:52.387407Z",
     "end_time": "2023-04-28T14:44:52.459774Z"
    }
   }
  },
  {
   "cell_type": "code",
   "execution_count": 15,
   "outputs": [],
   "source": [],
   "metadata": {
    "collapsed": false,
    "ExecuteTime": {
     "start_time": "2023-04-28T14:44:52.402368Z",
     "end_time": "2023-04-28T14:44:52.459774Z"
    }
   }
  }
 ],
 "metadata": {
  "kernelspec": {
   "display_name": "Python 3",
   "language": "python",
   "name": "python3"
  },
  "language_info": {
   "codemirror_mode": {
    "name": "ipython",
    "version": 2
   },
   "file_extension": ".py",
   "mimetype": "text/x-python",
   "name": "python",
   "nbconvert_exporter": "python",
   "pygments_lexer": "ipython2",
   "version": "2.7.6"
  }
 },
 "nbformat": 4,
 "nbformat_minor": 0
}
